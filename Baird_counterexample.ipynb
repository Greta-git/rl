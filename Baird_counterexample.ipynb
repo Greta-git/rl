{
 "cells": [
  {
   "cell_type": "markdown",
   "metadata": {},
   "source": [
    "# BAIRD COUNTER EXAMPLE - GTD,GTD2,TDC,TD"
   ]
  },
  {
   "cell_type": "code",
   "execution_count": 1,
   "metadata": {
    "collapsed": false
   },
   "outputs": [
    {
     "name": "stderr",
     "output_type": "stream",
     "text": [
      "/Users/Greta/anaconda2/lib/python2.7/site-packages/matplotlib/font_manager.py:273: UserWarning: Matplotlib is building the font cache using fc-list. This may take a moment.\n",
      "  warnings.warn('Matplotlib is building the font cache using fc-list. This may take a moment.')\n"
     ]
    }
   ],
   "source": [
    "import numpy as np\n",
    "from matplotlib import pyplot as plt"
   ]
  },
  {
   "cell_type": "code",
   "execution_count": 27,
   "metadata": {
    "collapsed": true
   },
   "outputs": [],
   "source": [
    "from scipy.stats import rv_discrete"
   ]
  },
  {
   "cell_type": "code",
   "execution_count": 241,
   "metadata": {
    "collapsed": false
   },
   "outputs": [],
   "source": [
    "def behavior_policy(s,actions,p_actions): \n",
    "    # proba solid 1/7 and proba dashed = 6/7\n",
    "    x = [1,2]\n",
    "    a = int(rv_discrete(values=(x,p_actions)).rvs(size=1))\n",
    "    return actions[a-1]\n",
    "    \n",
    "def target_policy(s) : \n",
    "    a = 'solid'\n",
    "    return a\n",
    "\n",
    "def new_state(s,a,term_s,states) : \n",
    "    # terminal state with proba 0.01 and normal next state with proba 0.99\n",
    "    x = [1,2]\n",
    "    px = [0.01,0.99]\n",
    "    m = int(rv_discrete(values=(x,px)).rvs(size=1))\n",
    "    \n",
    "    if a == 'dashed' : \n",
    "        new_s = np.random.choice(states[:6])\n",
    "    if a == 'solid' : \n",
    "        new_s = 6\n",
    "        \n",
    "    if m == 1: # ie terminal state\n",
    "        new_s = term_s\n",
    "    \n",
    "    return new_s\n",
    "\n",
    "def phi_states(s,new_s,dim_features,Phi,term_state) : \n",
    "    fi = Phi[s]\n",
    "    fi_prime = np.zeros((dim_features,))\n",
    "    if new_s != term_state :\n",
    "        fi_prime = Phi[new_s]\n",
    "    return fi,fi_prime\n",
    "        \n",
    "def one_episode_td(alpha_td,states,actions,p_actions,term_state,dim_features,theta_o,discount,Phi,Pi,P) : \n",
    "    theta = np.copy(theta_o)\n",
    "    s = np.random.choice(states)\n",
    "    end = False\n",
    "    while end is False : \n",
    "        # take action a according to the behaviour policy and observe reward and new_state\n",
    "        a = behavior_policy(s,actions,p_actions)\n",
    "        r = 0\n",
    "        new_s = new_state(s,a,term_state,states)\n",
    "        fi,fi_prime = phi_states(s,new_s,dim_features,Phi,term_state)\n",
    "\n",
    "        # get the importance ratio\n",
    "        rho = 0. # pi(dashed|.) = 0\n",
    "        if a == 'solid' : \n",
    "            rho = 1./(1./7.)\n",
    "\n",
    "        # update the value learning backup\n",
    "        delt = discount * np.dot(theta.T,fi_prime) - np.dot(theta.T,fi)\n",
    "        theta = theta + alpha_td * rho * delt * fi\n",
    "\n",
    "        # go to next state\n",
    "        if new_s == term_state : \n",
    "            end = True\n",
    "        s = new_s\n",
    "    \n",
    "    # compute rmspbe\n",
    "    rmspbe = compute_rmspbe(discount,theta,Phi,Pi,P)\n",
    "        \n",
    "    return theta,rmspbe\n",
    "\n",
    "def one_episode(algo,eta,w_o,alpha_gtd,states,actions,p_actions,term_state,dim_features,theta_o,discount,Phi,Pi,P) :      \n",
    "    theta = np.copy(theta_o)\n",
    "    w = np.copy(w_o)\n",
    "    s = np.random.choice(states)\n",
    "    end = False\n",
    "    while end is False : \n",
    "        # take action a according to the behaviour policy and observe reward and new_state\n",
    "        a = behavior_policy(s,actions,p_actions)\n",
    "        r = 0\n",
    "        new_s = new_state(s,a,term_state,states)\n",
    "        fi,fi_prime = phi_states(s,new_s,dim_features,Phi,term_state)\n",
    "\n",
    "        # get the importance ratio\n",
    "        rho = 0. # pi(dashed|.) = 0\n",
    "        if a == 'solid' : \n",
    "            rho = 1./(1./7.)\n",
    "            \n",
    "        # update values\n",
    "        delt = discount * np.dot(theta.T,fi_prime) - np.dot(theta.T,fi)\n",
    "        \n",
    "        if algo == 'GTD2' : \n",
    "            theta = theta + alpha_gtd * rho * (fi - discount * fi_prime) * np.dot(fi,w)\n",
    "            w = w + alpha_gtd * eta * (rho * delt - np.dot(fi,w)) * fi \n",
    "\n",
    "        elif algo == 'TDC' : \n",
    "            theta = theta + alpha_gtd * rho * delt * fi - rho * alpha_gtd * discount * fi_prime * np.dot(fi,w)\n",
    "            w = w + alpha_gtd * eta * (rho * delt - np.dot(fi,w)) * fi                \n",
    "\n",
    "        elif algo == 'GTD' : \n",
    "            theta = theta + alpha_gtd * rho * (fi - discount * fi_prime) * np.dot(fi,w)\n",
    "            w = w + alpha_gtd * eta * rho * (delt*fi - w)               \n",
    "            \n",
    "        # go to next state\n",
    "        if new_s == term_state : \n",
    "            end = True\n",
    "            \n",
    "        s = new_s\n",
    "\n",
    "    # compute rmspbe\n",
    "    rmspbe = compute_rmspbe(discount,theta,Phi,Pi,P)\n",
    "\n",
    "    return theta,w,rmspbe\n",
    "    \n",
    "def compute_rmspbe(discount,theta,Phi,Pi,P) :\n",
    "    v = np.dot(Phi,theta)\n",
    "    pitv = discount*np.dot(P,v)\n",
    "    mspbe = np.sum((v-pitv)**2)/float(dim_states)\n",
    "    #mspbe = ((v - discount * Pi.dot(P).dot(v)).T).dot(D).dot((v - discount * Pi.dot(P).dot(v)))\n",
    "    rmspbe = np.sqrt(mspbe)\n",
    "    return rmspbe"
   ]
  },
  {
   "cell_type": "markdown",
   "metadata": {},
   "source": [
    "# Environment"
   ]
  },
  {
   "cell_type": "code",
   "execution_count": 246,
   "metadata": {
    "collapsed": true
   },
   "outputs": [],
   "source": [
    "states = range(7)\n",
    "term_state = 7\n",
    "actions = ['dashed','solid']\n",
    "p_actions=[6./7.,1/7.]\n",
    "dim_states = 7\n",
    "dim_features = 8\n",
    "\n",
    "discount = 0.99\n",
    "alpha_td = 0.001\n",
    "alpha_gtd = 0.0005\n",
    "eta = 10\n",
    "nb_episodes = 100\n",
    "\n",
    "Phi = np.array([\n",
    "        [2,0,0,0,0,0,0,1],\n",
    "        [0,2,0,0,0,0,0,1],\n",
    "        [0,0,2,0,0,0,0,1],\n",
    "        [0,0,0,2,0,0,0,1],\n",
    "        [0,0,0,0,2,0,0,1],\n",
    "        [0,0,0,0,0,2,0,1],\n",
    "        [0,0,0,0,0,0,1,2]])"
   ]
  },
  {
   "cell_type": "code",
   "execution_count": 247,
   "metadata": {
    "collapsed": false
   },
   "outputs": [],
   "source": [
    "D = np.diag(np.ones((dim_states,))/float(dim_states))\n",
    "B = np.linalg.inv((Phi.T).dot(D).dot(Phi))\n",
    "Pi = Phi.dot(B).dot(Phi.T).dot(D)\n",
    "P_mu = 1./dim_states * np.ones((dim_states,)) - 1./dim_states * np.diag(np.ones((dim_states,)))                                                        \n",
    "P_pi = np.array([\n",
    "        [0,0,0,0,0,0,1],\n",
    "        [0,0,0,0,0,0,1],\n",
    "        [0,0,0,0,0,0,1],\n",
    "        [0,0,0,0,0,0,1],\n",
    "        [0,0,0,0,0,0,1],\n",
    "        [0,0,0,0,0,0,1],\n",
    "        [0,0,0,0,0,0,1]])"
   ]
  },
  {
   "cell_type": "markdown",
   "metadata": {},
   "source": [
    "### Multiple episodes TD"
   ]
  },
  {
   "cell_type": "code",
   "execution_count": 248,
   "metadata": {
    "collapsed": false
   },
   "outputs": [
    {
     "name": "stdout",
     "output_type": "stream",
     "text": [
      "episode 20 done\n",
      "episode 40 done\n",
      "episode 60 done\n",
      "episode 80 done\n",
      "episode 100 done\n"
     ]
    }
   ],
   "source": [
    "count_episode = 0\n",
    "theta_o = np.array([1,1,1,1,1,1,10,1])\n",
    "perf_td = []\n",
    "thetas = dict()\n",
    "for i in range(1,9) :\n",
    "    thetas[i] = []\n",
    "while count_episode < nb_episodes : \n",
    "    theta,rmspbe = one_episode_td(alpha_td,states,actions,p_actions,term_state,dim_features,theta_o,discount,Phi,Pi,P_pi)\n",
    "\n",
    "    for i in range(8) : \n",
    "        thetas[i+1].append(theta[i])\n",
    "    \n",
    "    perf_td.append(rmspbe)\n",
    "    theta_o = theta\n",
    "\n",
    "    count_episode += 1\n",
    "    if count_episode % 20 == 0 : \n",
    "        print 'episode %s done'%count_episode"
   ]
  },
  {
   "cell_type": "code",
   "execution_count": 250,
   "metadata": {
    "collapsed": false
   },
   "outputs": [
    {
     "data": {
      "image/png": "[encoded data removed]",
      "text/plain": [
       "<matplotlib.figure.Figure at 0x112949f90>"
      ]
     },
     "metadata": {},
     "output_type": "display_data"
    }
   ],
   "source": [
    "x = range(nb_episodes)\n",
    "plt.plot(x,thetas[8],label = 'theta 8')\n",
    "plt.plot(x,thetas[7],label = 'Theta 7')\n",
    "plt.xlabel('Episode')\n",
    "plt.ylabel('Theta')\n",
    "plt.legend()\n",
    "plt.title('TD')\n",
    "plt.show()"
   ]
  },
  {
   "cell_type": "markdown",
   "metadata": {},
   "source": [
    "### Multiple episodes GTD"
   ]
  },
  {
   "cell_type": "code",
   "execution_count": 258,
   "metadata": {
    "collapsed": false
   },
   "outputs": [
    {
     "name": "stdout",
     "output_type": "stream",
     "text": [
      "episode 20 done\n",
      "episode 40 done\n",
      "episode 60 done\n",
      "episode 80 done\n",
      "episode 100 done\n"
     ]
    }
   ],
   "source": [
    "count_episode = 0\n",
    "theta_o = np.array([1,1,1,1,1,1,10,1])\n",
    "perf_gtd = []\n",
    "\n",
    "w_o = np.zeros((dim_features,))\n",
    "\n",
    "count_episode = 0\n",
    "\n",
    "while count_episode < nb_episodes :\n",
    "    theta,w,rmspbe = one_episode('GTD',eta,w_o,alpha_gtd,states,actions,p_actions,term_state,dim_features,theta_o,discount,Phi,Pi,P_pi)\n",
    "\n",
    "    theta_o = theta\n",
    "    w_o = w\n",
    "\n",
    "    count_episode += 1\n",
    "\n",
    "    perf_gtd.append(rmspbe)\n",
    "    if count_episode % 20 == 0 : \n",
    "        print 'episode %s done'%count_episode"
   ]
  },
  {
   "cell_type": "markdown",
   "metadata": {
    "collapsed": false
   },
   "source": [
    "### Multiple episodes GTD2"
   ]
  },
  {
   "cell_type": "code",
   "execution_count": 251,
   "metadata": {
    "collapsed": false
   },
   "outputs": [
    {
     "name": "stdout",
     "output_type": "stream",
     "text": [
      "episode 20 done\n",
      "episode 40 done\n",
      "episode 60 done\n",
      "episode 80 done\n",
      "episode 100 done\n"
     ]
    }
   ],
   "source": [
    "count_episode = 0\n",
    "theta_o = np.array([1,1,1,1,1,1,10,1])\n",
    "perf_gtd2 = []\n",
    "\n",
    "w_o = np.zeros((dim_features,))\n",
    "\n",
    "count_episode = 0\n",
    "\n",
    "while count_episode < nb_episodes :\n",
    "    theta,w,rmspbe = one_episode('GTD2',eta,w_o,alpha_gtd,states,actions,p_actions,term_state,dim_features,theta_o,discount,Phi,Pi,P_pi)\n",
    "\n",
    "    theta_o = theta\n",
    "    w_o = w\n",
    "\n",
    "    count_episode += 1\n",
    "\n",
    "    perf_gtd2.append(rmspbe)\n",
    "    if count_episode % 20 == 0 : \n",
    "        print 'episode %s done'%count_episode"
   ]
  },
  {
   "cell_type": "markdown",
   "metadata": {
    "collapsed": false
   },
   "source": [
    "### Multiple episodes TDC"
   ]
  },
  {
   "cell_type": "code",
   "execution_count": 254,
   "metadata": {
    "collapsed": false
   },
   "outputs": [
    {
     "name": "stdout",
     "output_type": "stream",
     "text": [
      "episode 20 done\n",
      "episode 40 done\n",
      "episode 60 done\n",
      "episode 80 done\n",
      "episode 100 done\n"
     ]
    }
   ],
   "source": [
    "count_episode = 0\n",
    "theta_o = np.array([1,1,1,1,1,1,10,1])\n",
    "perf_tdc = []\n",
    "w_o = np.zeros((dim_features,))\n",
    "\n",
    "count_episode = 0\n",
    "\n",
    "while count_episode < nb_episodes :\n",
    "    theta,w,rmspbe = one_episode('TDC',eta,w_o,alpha_gtd,states,actions,p_actions,term_state,dim_features,theta_o,discount,Phi,Pi,P_pi)\n",
    "\n",
    "    theta_o = theta\n",
    "    w_o = w\n",
    "\n",
    "    count_episode += 1\n",
    "    perf_tdc.append(rmspbe)\n",
    "    if count_episode % 20 == 0 : \n",
    "        print 'episode %s done'%count_episode"
   ]
  },
  {
   "cell_type": "code",
   "execution_count": 261,
   "metadata": {
    "collapsed": false
   },
   "outputs": [
    {
     "data": {
      "image/png": "[encoded data removed]",
      "text/plain": [
       "<matplotlib.figure.Figure at 0x112d12d10>"
      ]
     },
     "metadata": {},
     "output_type": "display_data"
    }
   ],
   "source": [
    "x = range(nb_episodes)\n",
    "plt.plot(x,perf_tdc,label = 'TDC')\n",
    "plt.plot(x,perf_gtd2,label = 'GTD2')\n",
    "plt.plot(x,perf_gtd,label = 'GTD')\n",
    "plt.plot(x,perf_td,label = 'TD')\n",
    "plt.xlabel('Episode')\n",
    "plt.ylabel('RMSPBE')\n",
    "plt.ylim((0,20))\n",
    "plt.legend()\n",
    "plt.title('Learning curves Baird couterexample')\n",
    "plt.show()"
   ]
  },
  {
   "cell_type": "code",
   "execution_count": null,
   "metadata": {
    "collapsed": true
   },
   "outputs": [],
   "source": []
  }
 ],
 "metadata": {
  "anaconda-cloud": {},
  "kernelspec": {
   "display_name": "Python [conda root]",
   "language": "python",
   "name": "conda-root-py"
  },
  "language_info": {
   "codemirror_mode": {
    "name": "ipython",
    "version": 2
   },
   "file_extension": ".py",
   "mimetype": "text/x-python",
   "name": "python",
   "nbconvert_exporter": "python",
   "pygments_lexer": "ipython2",
   "version": "2.7.12"
  }
 },
 "nbformat": 4,
 "nbformat_minor": 1
}
